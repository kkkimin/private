{
 "cells": [
  {
   "cell_type": "markdown",
   "id": "c434e093",
   "metadata": {},
   "source": [
    "# 이미지 식별 머신을 위한 데이터 준비"
   ]
  },
  {
   "cell_type": "markdown",
   "id": "464e9c5b",
   "metadata": {},
   "source": [
    "### 0.준비"
   ]
  },
  {
   "cell_type": "markdown",
   "id": "e2b15280",
   "metadata": {},
   "source": [
    "1. 라이브러리 import"
   ]
  },
  {
   "cell_type": "code",
   "execution_count": 2,
   "id": "187828c6",
   "metadata": {},
   "outputs": [],
   "source": [
    "import matplotlib.pyplot as plt\n",
    "import numpy as np\n",
    "import torch\n",
    "from torch import nn, optim\n",
    "import torchvision\n",
    "from torchvision import datasets, transforms\n",
    "from PIL import Image  # 이미지 처리 라이브러리(pillow)\n",
    "\n",
    "%matplotlib inline\n",
    "%config InlineBackend.figure_format = 'retina'"
   ]
  },
  {
   "cell_type": "markdown",
   "id": "4ab4ca0a",
   "metadata": {},
   "source": [
    "2. 데이터 디렉토리, 분할 비율, 데이터 변환 방법 설정"
   ]
  },
  {
   "cell_type": "markdown",
   "id": "a94143b8",
   "metadata": {},
   "source": [
    "- ✔️ResNet : "
   ]
  },
  {
   "cell_type": "markdown",
   "id": "3c1f6d70",
   "metadata": {},
   "source": [
    "- torch transforms : https://docs.pytorch.org/vision/0.9/transforms.html"
   ]
  },
  {
   "cell_type": "code",
   "execution_count": null,
   "id": "cef55f35",
   "metadata": {},
   "outputs": [
    {
     "data": {
      "text/plain": [
       "torchvision.transforms.transforms.Compose"
      ]
     },
     "execution_count": 12,
     "metadata": {},
     "output_type": "execute_result"
    }
   ],
   "source": [
    "data_dir = './data'\n",
    "valid_size = 0.2\n",
    "\n",
    "# 이미지 데이터의 변환 방법 설정 (t_transforms)\n",
    "t_transforms = transforms.Compose([\n",
    "    transforms.RandomResizedCrop(224),  # ResNet이 처리하는 이미지 크기(224x224)로 crop -> tensor 변환\n",
    "    transforms.Resize(224),\n",
    "    transforms.ToTensor()\n",
    "])"
   ]
  },
  {
   "cell_type": "code",
   "execution_count": 4,
   "id": "11d6e2df",
   "metadata": {},
   "outputs": [
    {
     "name": "stdout",
     "output_type": "stream",
     "text": [
      "Compose(\n",
      "    RandomResizedCrop(size=(224, 224), scale=(0.08, 1.0), ratio=(0.75, 1.3333), interpolation=bilinear)\n",
      "    Resize(size=224, interpolation=bilinear, max_size=None, antialias=None)\n",
      "    ToTensor()\n",
      ")\n"
     ]
    }
   ],
   "source": [
    "print(t_transforms)  # size-(224, 224), ToTensor() 확인"
   ]
  },
  {
   "cell_type": "markdown",
   "id": "6dd45db9",
   "metadata": {},
   "source": [
    "### 1. train/test 데이터 로더 생성"
   ]
  },
  {
   "cell_type": "markdown",
   "id": "a365190a",
   "metadata": {},
   "source": [
    "- 데이터셋 폴더 등 지정"
   ]
  },
  {
   "cell_type": "code",
   "execution_count": 5,
   "id": "fe809f0d",
   "metadata": {},
   "outputs": [
    {
     "name": "stdout",
     "output_type": "stream",
     "text": [
      "Dataset ImageFolder\n",
      "    Number of datapoints: 155\n",
      "    Root location: ./data\n",
      "    StandardTransform\n",
      "Transform: Compose(\n",
      "               RandomResizedCrop(size=(224, 224), scale=(0.08, 1.0), ratio=(0.75, 1.3333), interpolation=bilinear)\n",
      "               Resize(size=224, interpolation=bilinear, max_size=None, antialias=None)\n",
      "               ToTensor()\n",
      "           )\n",
      "155\n",
      "155\n"
     ]
    }
   ],
   "source": [
    "# train/test 데이터 디렉터리/변환방식 지정\n",
    "\n",
    "train_data = datasets.ImageFolder(data_dir, transform=t_transforms)\n",
    "test_data = datasets.ImageFolder(data_dir, transform=t_transforms)\n",
    "\n",
    "print(train_data)\n",
    "\n",
    "print(len(train_data))\n",
    "print(len(test_data))"
   ]
  },
  {
   "cell_type": "markdown",
   "id": "cd7fb3db",
   "metadata": {},
   "source": [
    "- 인덱스 섞기"
   ]
  },
  {
   "cell_type": "code",
   "execution_count": 6,
   "id": "2f5cd2a2",
   "metadata": {},
   "outputs": [
    {
     "name": "stdout",
     "output_type": "stream",
     "text": [
      "[0, 1, 2, 3, 4, 5, 6, 7, 8, 9, 10, 11, 12, 13, 14, 15, 16, 17, 18, 19, 20, 21, 22, 23, 24, 25, 26, 27, 28, 29, 30, 31, 32, 33, 34, 35, 36, 37, 38, 39, 40, 41, 42, 43, 44, 45, 46, 47, 48, 49, 50, 51, 52, 53, 54, 55, 56, 57, 58, 59, 60, 61, 62, 63, 64, 65, 66, 67, 68, 69, 70, 71, 72, 73, 74, 75, 76, 77, 78, 79, 80, 81, 82, 83, 84, 85, 86, 87, 88, 89, 90, 91, 92, 93, 94, 95, 96, 97, 98, 99, 100, 101, 102, 103, 104, 105, 106, 107, 108, 109, 110, 111, 112, 113, 114, 115, 116, 117, 118, 119, 120, 121, 122, 123, 124, 125, 126, 127, 128, 129, 130, 131, 132, 133, 134, 135, 136, 137, 138, 139, 140, 141, 142, 143, 144, 145, 146, 147, 148, 149, 150, 151, 152, 153, 154]\n",
      "155\n",
      "[129, 80, 62, 14, 51, 60, 89, 77, 86, 79, 71, 72, 116, 85, 119, 76, 40, 42, 16, 67, 106, 148, 9, 34, 5, 78, 0, 131, 125, 12, 102, 55, 35, 61, 18, 150, 126, 41, 13, 15, 111, 115, 75, 84, 128, 58, 104, 93, 59, 141, 2, 7, 8, 120, 154, 137, 37, 98, 22, 95, 132, 48, 100, 143, 144, 20, 112, 70, 139, 121, 73, 46, 123, 17, 11, 24, 152, 81, 57, 134, 151, 105, 6, 44, 130, 1, 45, 135, 21, 19, 138, 108, 94, 39, 146, 23, 133, 27, 107, 36, 124, 90, 142, 3, 117, 26, 4, 147, 114, 30, 92, 96, 127, 47, 56, 101, 50, 32, 99, 136, 87, 63, 153, 29, 52, 43, 91, 66, 68, 28, 53, 82, 49, 145, 149, 113, 69, 88, 110, 74, 83, 64, 65, 31, 38, 54, 25, 109, 103, 140, 10, 33, 122, 97, 118]\n",
      "155\n"
     ]
    }
   ],
   "source": [
    "# train_data의 사이즈만큼의 정수값을 갖는 인덱스 리스트(indices) 생성\n",
    "\n",
    "num_train = len(train_data)\n",
    "indices = list(range(num_train))\n",
    "print(indices)\n",
    "print(len(indices))\n",
    "\n",
    "# 인덱스 리스트를 랜덤으로 섞고 확인\n",
    "np.random.shuffle(indices)\n",
    "print(indices)\n",
    "print(len(indices))\n"
   ]
  },
  {
   "cell_type": "markdown",
   "id": "6b9b46c0",
   "metadata": {},
   "source": [
    "- 데이터 로더 함수 : 분할 지점 계산 (train과 valid)"
   ]
  },
  {
   "cell_type": "code",
   "execution_count": null,
   "id": "df142c0d",
   "metadata": {},
   "outputs": [
    {
     "name": "stdout",
     "output_type": "stream",
     "text": [
      "0.2\n",
      "155\n"
     ]
    }
   ],
   "source": [
    "print(valid_size)  # 0.2\n",
    "print(num_train)  # 155"
   ]
  },
  {
   "cell_type": "code",
   "execution_count": 7,
   "id": "46d9b4f2",
   "metadata": {},
   "outputs": [
    {
     "name": "stdout",
     "output_type": "stream",
     "text": [
      "31\n"
     ]
    }
   ],
   "source": [
    "# split 지점 계산\n",
    "split = int(np.floor(num_train * valid_size))\n",
    "print(split)"
   ]
  },
  {
   "cell_type": "code",
   "execution_count": 8,
   "id": "1193e755",
   "metadata": {},
   "outputs": [
    {
     "name": "stdout",
     "output_type": "stream",
     "text": [
      "[55, 35, 61, 18, 150, 126, 41, 13, 15, 111, 115, 75, 84, 128, 58, 104, 93, 59, 141, 2, 7, 8, 120, 154, 137, 37, 98, 22, 95, 132, 48, 100, 143, 144, 20, 112, 70, 139, 121, 73, 46, 123, 17, 11, 24, 152, 81, 57, 134, 151, 105, 6, 44, 130, 1, 45, 135, 21, 19, 138, 108, 94, 39, 146, 23, 133, 27, 107, 36, 124, 90, 142, 3, 117, 26, 4, 147, 114, 30, 92, 96, 127, 47, 56, 101, 50, 32, 99, 136, 87, 63, 153, 29, 52, 43, 91, 66, 68, 28, 53, 82, 49, 145, 149, 113, 69, 88, 110, 74, 83, 64, 65, 31, 38, 54, 25, 109, 103, 140, 10, 33, 122, 97, 118]\n",
      "124\n",
      "[129, 80, 62, 14, 51, 60, 89, 77, 86, 79, 71, 72, 116, 85, 119, 76, 40, 42, 16, 67, 106, 148, 9, 34, 5, 78, 0, 131, 125, 12, 102]\n",
      "31\n"
     ]
    }
   ],
   "source": [
    "# split을 기준으로 -> train/test 인덱스 리스트 분할\n",
    "\n",
    "train_idx, test_idx = indices[split:], indices[:split]\n",
    "\n",
    "print(train_idx)\n",
    "print(len(train_idx))\n",
    "print(test_idx)\n",
    "print(len(test_idx))"
   ]
  },
  {
   "cell_type": "markdown",
   "id": "4f27835a",
   "metadata": {},
   "source": [
    "- 데이터 로더 함수 : 샘플러 및 로더"
   ]
  },
  {
   "cell_type": "code",
   "execution_count": 11,
   "id": "9a823df8",
   "metadata": {},
   "outputs": [
    {
     "name": "stdout",
     "output_type": "stream",
     "text": [
      "['Basalt', 'Highland']\n"
     ]
    }
   ],
   "source": [
    "# 데이터 샘플링 방식 지정\n",
    "from torch.utils.data.sampler import SubsetRandomSampler\n",
    "train_sampler = SubsetRandomSampler(train_idx)\n",
    "test_sampler = SubsetRandomSampler(test_idx)\n",
    "\n",
    "trainloader = torch.utils.data.DataLoader(train_data, sampler=train_sampler, batch_size=16)\n",
    "testloader = torch.utils.data.DataLoader(test_data, sampler=test_sampler, batch_size=16)\n",
    "\n",
    "print(trainloader.dataset.classes)"
   ]
  },
  {
   "cell_type": "code",
   "execution_count": null,
   "id": "dd1a92e1",
   "metadata": {},
   "outputs": [],
   "source": [
    "# 위의 코드들을 묶어서 load_split_train_test() 함수를 만든다. (입력 : 데이터 디렉토리, 분할 비율) (출력 : 학습 데이터 로더, 테스트 데이터 로더)\n",
    "\n",
    "def load_split_train_test(data_dir, valid_size) :\n",
    "    t_transforms = transforms.Compose([\n",
    "                transforms.RandomResizedCrop(224),\n",
    "                transforms.Resize(224),\n",
    "                transforms.ToTensor()\n",
    "    ])\n",
    "    \n",
    "    train_data = datasets.ImageFolder(data_dir, transform=t_transforms)\n",
    "    test_data = datasets.ImageFolder(data_dir, transform=t_transforms)\n",
    "    num_train = len(train_data)\n",
    "    indices = list(range(num_train))\n",
    "\n",
    "    np.random.shuffle(indices)\n",
    "    split = int(np.floor(num_train * valid_size))\n",
    "    train_idx, test_idx = indices[split:], indices[:split]\n",
    "    from torch.utils.data.sampler import SubsetRandomSampler\n",
    "\n",
    "    train_sampler = SubsetRandomSampler(train_idx)\n",
    "    test_sampler = SubsetRandomSampler(test_idx)\n",
    "\n",
    "    trainloader = torch.utils.data.DataLoader(train_data, sampler=train_sampler, batch_size=16)\n",
    "    testloader = torch.utils.data.DataLoader(test_data, sampler=test_sampler, batch_size=16)\n",
    "\n",
    "    return trainloader, testloader\n"
   ]
  },
  {
   "cell_type": "markdown",
   "id": "1004e4fd",
   "metadata": {},
   "source": [
    "### 2. Compute device 설정"
   ]
  },
  {
   "cell_type": "code",
   "execution_count": null,
   "id": "a540b1ff",
   "metadata": {},
   "outputs": [],
   "source": []
  },
  {
   "cell_type": "code",
   "execution_count": null,
   "id": "7a101941",
   "metadata": {},
   "outputs": [],
   "source": []
  },
  {
   "cell_type": "markdown",
   "id": "c1d44a17",
   "metadata": {},
   "source": [
    "### 3. 모델 선정 : ResNet50 (pretrained)"
   ]
  },
  {
   "cell_type": "markdown",
   "id": "6bda0c9b",
   "metadata": {},
   "source": [
    "### 4. 신경망 FCL 수정"
   ]
  },
  {
   "cell_type": "markdown",
   "id": "a12972a0",
   "metadata": {},
   "source": [
    "#### (1)신경망 입/출력층 설정"
   ]
  },
  {
   "cell_type": "markdown",
   "id": "b20dab74",
   "metadata": {},
   "source": [
    "### 5. 모델 train/val/test"
   ]
  },
  {
   "cell_type": "markdown",
   "id": "85cfbaaf",
   "metadata": {},
   "source": [
    "### 6. 암석 예측"
   ]
  },
  {
   "cell_type": "code",
   "execution_count": null,
   "id": "bad008fb",
   "metadata": {},
   "outputs": [],
   "source": []
  }
 ],
 "metadata": {
  "kernelspec": {
   "display_name": "torch-env",
   "language": "python",
   "name": "python3"
  },
  "language_info": {
   "codemirror_mode": {
    "name": "ipython",
    "version": 3
   },
   "file_extension": ".py",
   "mimetype": "text/x-python",
   "name": "python",
   "nbconvert_exporter": "python",
   "pygments_lexer": "ipython3",
   "version": "3.8.10"
  }
 },
 "nbformat": 4,
 "nbformat_minor": 5
}
